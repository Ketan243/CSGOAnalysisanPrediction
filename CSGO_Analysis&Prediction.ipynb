{
 "cells": [
  {
   "cell_type": "markdown",
   "metadata": {},
   "source": [
    "# CSGO Result Prediction\n",
    "## Importing Libraries"
   ]
  },
  {
   "cell_type": "code",
   "execution_count": 57,
   "metadata": {},
   "outputs": [],
   "source": [
    "import pandas as pd\n",
    "from matplotlib import pyplot as plt\n",
    "import seaborn as sns\n",
    "import numpy as np\n",
    "from scipy.stats.stats import pearsonr\n",
    "from sklearn.model_selection import train_test_split\n",
    "from sklearn.svm import SVC\n",
    "from sklearn.metrics import classification_report\n",
    "from sklearn.metrics import confusion_matrix\n",
    "from sklearn.metrics import accuracy_score"
   ]
  },
  {
   "cell_type": "markdown",
   "metadata": {},
   "source": [
    "# Importing and Exploring Data "
   ]
  },
  {
   "cell_type": "code",
   "execution_count": 3,
   "metadata": {},
   "outputs": [
    {
     "data": {
      "text/html": [
       "<div>\n",
       "<style scoped>\n",
       "    .dataframe tbody tr th:only-of-type {\n",
       "        vertical-align: middle;\n",
       "    }\n",
       "\n",
       "    .dataframe tbody tr th {\n",
       "        vertical-align: top;\n",
       "    }\n",
       "\n",
       "    .dataframe thead th {\n",
       "        text-align: right;\n",
       "    }\n",
       "</style>\n",
       "<table border=\"1\" class=\"dataframe\">\n",
       "  <thead>\n",
       "    <tr style=\"text-align: right;\">\n",
       "      <th></th>\n",
       "      <th>Map</th>\n",
       "      <th>Year</th>\n",
       "      <th>Wait_time</th>\n",
       "      <th>Match_time</th>\n",
       "      <th>Team A</th>\n",
       "      <th>Team B</th>\n",
       "      <th>Ping</th>\n",
       "      <th>Kills</th>\n",
       "      <th>Assists</th>\n",
       "      <th>Deaths</th>\n",
       "      <th>Mvp's</th>\n",
       "      <th>HS%</th>\n",
       "      <th>Points</th>\n",
       "      <th>Result</th>\n",
       "    </tr>\n",
       "  </thead>\n",
       "  <tbody>\n",
       "    <tr>\n",
       "      <th>0</th>\n",
       "      <td>Mirage</td>\n",
       "      <td>2018</td>\n",
       "      <td>327</td>\n",
       "      <td>2906</td>\n",
       "      <td>16</td>\n",
       "      <td>13</td>\n",
       "      <td>215</td>\n",
       "      <td>17</td>\n",
       "      <td>2</td>\n",
       "      <td>21</td>\n",
       "      <td>2</td>\n",
       "      <td>5</td>\n",
       "      <td>45</td>\n",
       "      <td>Win</td>\n",
       "    </tr>\n",
       "    <tr>\n",
       "      <th>1</th>\n",
       "      <td>Mirage</td>\n",
       "      <td>2018</td>\n",
       "      <td>336</td>\n",
       "      <td>2592</td>\n",
       "      <td>16</td>\n",
       "      <td>11</td>\n",
       "      <td>199</td>\n",
       "      <td>13</td>\n",
       "      <td>4</td>\n",
       "      <td>24</td>\n",
       "      <td>2</td>\n",
       "      <td>0</td>\n",
       "      <td>40</td>\n",
       "      <td>Lost</td>\n",
       "    </tr>\n",
       "    <tr>\n",
       "      <th>2</th>\n",
       "      <td>Mirage</td>\n",
       "      <td>2018</td>\n",
       "      <td>414</td>\n",
       "      <td>2731</td>\n",
       "      <td>16</td>\n",
       "      <td>14</td>\n",
       "      <td>85</td>\n",
       "      <td>15</td>\n",
       "      <td>3</td>\n",
       "      <td>18</td>\n",
       "      <td>3</td>\n",
       "      <td>26</td>\n",
       "      <td>37</td>\n",
       "      <td>Win</td>\n",
       "    </tr>\n",
       "    <tr>\n",
       "      <th>3</th>\n",
       "      <td>Mirage</td>\n",
       "      <td>2018</td>\n",
       "      <td>317</td>\n",
       "      <td>2379</td>\n",
       "      <td>11</td>\n",
       "      <td>16</td>\n",
       "      <td>93</td>\n",
       "      <td>12</td>\n",
       "      <td>2</td>\n",
       "      <td>15</td>\n",
       "      <td>2</td>\n",
       "      <td>16</td>\n",
       "      <td>30</td>\n",
       "      <td>Lost</td>\n",
       "    </tr>\n",
       "    <tr>\n",
       "      <th>4</th>\n",
       "      <td>Mirage</td>\n",
       "      <td>2018</td>\n",
       "      <td>340</td>\n",
       "      <td>3467</td>\n",
       "      <td>15</td>\n",
       "      <td>15</td>\n",
       "      <td>94</td>\n",
       "      <td>33</td>\n",
       "      <td>5</td>\n",
       "      <td>20</td>\n",
       "      <td>5</td>\n",
       "      <td>30</td>\n",
       "      <td>83</td>\n",
       "      <td>Tie</td>\n",
       "    </tr>\n",
       "  </tbody>\n",
       "</table>\n",
       "</div>"
      ],
      "text/plain": [
       "      Map  Year  Wait_time   Match_time  Team A  Team B  Ping  Kills  Assists  \\\n",
       "0  Mirage  2018        327         2906      16      13   215     17        2   \n",
       "1  Mirage  2018        336         2592      16      11   199     13        4   \n",
       "2  Mirage  2018        414         2731      16      14    85     15        3   \n",
       "3  Mirage  2018        317         2379      11      16    93     12        2   \n",
       "4  Mirage  2018        340         3467      15      15    94     33        5   \n",
       "\n",
       "   Deaths  Mvp's  HS%  Points Result  \n",
       "0      21      2    5      45    Win  \n",
       "1      24      2    0      40   Lost  \n",
       "2      18      3   26      37    Win  \n",
       "3      15      2   16      30   Lost  \n",
       "4      20      5   30      83    Tie  "
      ]
     },
     "execution_count": 3,
     "metadata": {},
     "output_type": "execute_result"
    }
   ],
   "source": [
    "data = pd.read_csv('./CSGO.csv')\n",
    "data2 = data.rename(columns = {'Team A Rounds':'Team A','Team B Rounds':'Team B'},inplace=False)\n",
    "data2.head()"
   ]
  },
  {
   "cell_type": "code",
   "execution_count": 4,
   "metadata": {},
   "outputs": [
    {
     "data": {
      "text/plain": [
       "Index(['Map', 'Year', 'Wait_time', ' Match_time', 'Team A', 'Team B', 'Ping',\n",
       "       'Kills', 'Assists', 'Deaths', 'Mvp's', 'HS%', 'Points', 'Result'],\n",
       "      dtype='object')"
      ]
     },
     "execution_count": 4,
     "metadata": {},
     "output_type": "execute_result"
    }
   ],
   "source": [
    "data2.columns"
   ]
  },
  {
   "cell_type": "code",
   "execution_count": 5,
   "metadata": {},
   "outputs": [
    {
     "data": {
      "text/plain": [
       "Map            object\n",
       "Year            int64\n",
       "Wait_time       int64\n",
       " Match_time     int64\n",
       "Team A          int64\n",
       "Team B          int64\n",
       "Ping            int64\n",
       "Kills           int64\n",
       "Assists         int64\n",
       "Deaths          int64\n",
       "Mvp's           int64\n",
       "HS%             int64\n",
       "Points          int64\n",
       "Result         object\n",
       "dtype: object"
      ]
     },
     "execution_count": 5,
     "metadata": {},
     "output_type": "execute_result"
    }
   ],
   "source": [
    "data2.dtypes"
   ]
  },
  {
   "cell_type": "code",
   "execution_count": 6,
   "metadata": {},
   "outputs": [
    {
     "data": {
      "text/html": [
       "<div>\n",
       "<style scoped>\n",
       "    .dataframe tbody tr th:only-of-type {\n",
       "        vertical-align: middle;\n",
       "    }\n",
       "\n",
       "    .dataframe tbody tr th {\n",
       "        vertical-align: top;\n",
       "    }\n",
       "\n",
       "    .dataframe thead th {\n",
       "        text-align: right;\n",
       "    }\n",
       "</style>\n",
       "<table border=\"1\" class=\"dataframe\">\n",
       "  <thead>\n",
       "    <tr style=\"text-align: right;\">\n",
       "      <th></th>\n",
       "      <th>Map</th>\n",
       "      <th>Year</th>\n",
       "      <th>Wait_time</th>\n",
       "      <th>Match_time</th>\n",
       "      <th>Team A</th>\n",
       "      <th>Team B</th>\n",
       "      <th>Ping</th>\n",
       "      <th>Kills</th>\n",
       "      <th>Assists</th>\n",
       "      <th>Deaths</th>\n",
       "      <th>Mvp's</th>\n",
       "      <th>HS%</th>\n",
       "      <th>Points</th>\n",
       "      <th>Result</th>\n",
       "    </tr>\n",
       "  </thead>\n",
       "  <tbody>\n",
       "    <tr>\n",
       "      <th>0</th>\n",
       "      <td>False</td>\n",
       "      <td>False</td>\n",
       "      <td>False</td>\n",
       "      <td>False</td>\n",
       "      <td>False</td>\n",
       "      <td>False</td>\n",
       "      <td>False</td>\n",
       "      <td>False</td>\n",
       "      <td>False</td>\n",
       "      <td>False</td>\n",
       "      <td>False</td>\n",
       "      <td>False</td>\n",
       "      <td>False</td>\n",
       "      <td>False</td>\n",
       "    </tr>\n",
       "    <tr>\n",
       "      <th>1</th>\n",
       "      <td>False</td>\n",
       "      <td>False</td>\n",
       "      <td>False</td>\n",
       "      <td>False</td>\n",
       "      <td>False</td>\n",
       "      <td>False</td>\n",
       "      <td>False</td>\n",
       "      <td>False</td>\n",
       "      <td>False</td>\n",
       "      <td>False</td>\n",
       "      <td>False</td>\n",
       "      <td>False</td>\n",
       "      <td>False</td>\n",
       "      <td>False</td>\n",
       "    </tr>\n",
       "    <tr>\n",
       "      <th>2</th>\n",
       "      <td>False</td>\n",
       "      <td>False</td>\n",
       "      <td>False</td>\n",
       "      <td>False</td>\n",
       "      <td>False</td>\n",
       "      <td>False</td>\n",
       "      <td>False</td>\n",
       "      <td>False</td>\n",
       "      <td>False</td>\n",
       "      <td>False</td>\n",
       "      <td>False</td>\n",
       "      <td>False</td>\n",
       "      <td>False</td>\n",
       "      <td>False</td>\n",
       "    </tr>\n",
       "    <tr>\n",
       "      <th>3</th>\n",
       "      <td>False</td>\n",
       "      <td>False</td>\n",
       "      <td>False</td>\n",
       "      <td>False</td>\n",
       "      <td>False</td>\n",
       "      <td>False</td>\n",
       "      <td>False</td>\n",
       "      <td>False</td>\n",
       "      <td>False</td>\n",
       "      <td>False</td>\n",
       "      <td>False</td>\n",
       "      <td>False</td>\n",
       "      <td>False</td>\n",
       "      <td>False</td>\n",
       "    </tr>\n",
       "    <tr>\n",
       "      <th>4</th>\n",
       "      <td>False</td>\n",
       "      <td>False</td>\n",
       "      <td>False</td>\n",
       "      <td>False</td>\n",
       "      <td>False</td>\n",
       "      <td>False</td>\n",
       "      <td>False</td>\n",
       "      <td>False</td>\n",
       "      <td>False</td>\n",
       "      <td>False</td>\n",
       "      <td>False</td>\n",
       "      <td>False</td>\n",
       "      <td>False</td>\n",
       "      <td>False</td>\n",
       "    </tr>\n",
       "    <tr>\n",
       "      <th>...</th>\n",
       "      <td>...</td>\n",
       "      <td>...</td>\n",
       "      <td>...</td>\n",
       "      <td>...</td>\n",
       "      <td>...</td>\n",
       "      <td>...</td>\n",
       "      <td>...</td>\n",
       "      <td>...</td>\n",
       "      <td>...</td>\n",
       "      <td>...</td>\n",
       "      <td>...</td>\n",
       "      <td>...</td>\n",
       "      <td>...</td>\n",
       "      <td>...</td>\n",
       "    </tr>\n",
       "    <tr>\n",
       "      <th>1128</th>\n",
       "      <td>False</td>\n",
       "      <td>False</td>\n",
       "      <td>False</td>\n",
       "      <td>False</td>\n",
       "      <td>False</td>\n",
       "      <td>False</td>\n",
       "      <td>False</td>\n",
       "      <td>False</td>\n",
       "      <td>False</td>\n",
       "      <td>False</td>\n",
       "      <td>False</td>\n",
       "      <td>False</td>\n",
       "      <td>False</td>\n",
       "      <td>False</td>\n",
       "    </tr>\n",
       "    <tr>\n",
       "      <th>1129</th>\n",
       "      <td>False</td>\n",
       "      <td>False</td>\n",
       "      <td>False</td>\n",
       "      <td>False</td>\n",
       "      <td>False</td>\n",
       "      <td>False</td>\n",
       "      <td>False</td>\n",
       "      <td>False</td>\n",
       "      <td>False</td>\n",
       "      <td>False</td>\n",
       "      <td>False</td>\n",
       "      <td>False</td>\n",
       "      <td>False</td>\n",
       "      <td>False</td>\n",
       "    </tr>\n",
       "    <tr>\n",
       "      <th>1130</th>\n",
       "      <td>False</td>\n",
       "      <td>False</td>\n",
       "      <td>False</td>\n",
       "      <td>False</td>\n",
       "      <td>False</td>\n",
       "      <td>False</td>\n",
       "      <td>False</td>\n",
       "      <td>False</td>\n",
       "      <td>False</td>\n",
       "      <td>False</td>\n",
       "      <td>False</td>\n",
       "      <td>False</td>\n",
       "      <td>False</td>\n",
       "      <td>False</td>\n",
       "    </tr>\n",
       "    <tr>\n",
       "      <th>1131</th>\n",
       "      <td>False</td>\n",
       "      <td>False</td>\n",
       "      <td>False</td>\n",
       "      <td>False</td>\n",
       "      <td>False</td>\n",
       "      <td>False</td>\n",
       "      <td>False</td>\n",
       "      <td>False</td>\n",
       "      <td>False</td>\n",
       "      <td>False</td>\n",
       "      <td>False</td>\n",
       "      <td>False</td>\n",
       "      <td>False</td>\n",
       "      <td>False</td>\n",
       "    </tr>\n",
       "    <tr>\n",
       "      <th>1132</th>\n",
       "      <td>False</td>\n",
       "      <td>False</td>\n",
       "      <td>False</td>\n",
       "      <td>False</td>\n",
       "      <td>False</td>\n",
       "      <td>False</td>\n",
       "      <td>False</td>\n",
       "      <td>False</td>\n",
       "      <td>False</td>\n",
       "      <td>False</td>\n",
       "      <td>False</td>\n",
       "      <td>False</td>\n",
       "      <td>False</td>\n",
       "      <td>False</td>\n",
       "    </tr>\n",
       "  </tbody>\n",
       "</table>\n",
       "<p>1133 rows × 14 columns</p>\n",
       "</div>"
      ],
      "text/plain": [
       "        Map   Year  Wait_time   Match_time  Team A  Team B   Ping  Kills  \\\n",
       "0     False  False      False        False   False   False  False  False   \n",
       "1     False  False      False        False   False   False  False  False   \n",
       "2     False  False      False        False   False   False  False  False   \n",
       "3     False  False      False        False   False   False  False  False   \n",
       "4     False  False      False        False   False   False  False  False   \n",
       "...     ...    ...        ...          ...     ...     ...    ...    ...   \n",
       "1128  False  False      False        False   False   False  False  False   \n",
       "1129  False  False      False        False   False   False  False  False   \n",
       "1130  False  False      False        False   False   False  False  False   \n",
       "1131  False  False      False        False   False   False  False  False   \n",
       "1132  False  False      False        False   False   False  False  False   \n",
       "\n",
       "      Assists  Deaths  Mvp's    HS%  Points  Result  \n",
       "0       False   False  False  False   False   False  \n",
       "1       False   False  False  False   False   False  \n",
       "2       False   False  False  False   False   False  \n",
       "3       False   False  False  False   False   False  \n",
       "4       False   False  False  False   False   False  \n",
       "...       ...     ...    ...    ...     ...     ...  \n",
       "1128    False   False  False  False   False   False  \n",
       "1129    False   False  False  False   False   False  \n",
       "1130    False   False  False  False   False   False  \n",
       "1131    False   False  False  False   False   False  \n",
       "1132    False   False  False  False   False   False  \n",
       "\n",
       "[1133 rows x 14 columns]"
      ]
     },
     "execution_count": 6,
     "metadata": {},
     "output_type": "execute_result"
    }
   ],
   "source": [
    "data2.isnull()"
   ]
  },
  {
   "cell_type": "code",
   "execution_count": 7,
   "metadata": {},
   "outputs": [
    {
     "data": {
      "text/html": [
       "<div>\n",
       "<style scoped>\n",
       "    .dataframe tbody tr th:only-of-type {\n",
       "        vertical-align: middle;\n",
       "    }\n",
       "\n",
       "    .dataframe tbody tr th {\n",
       "        vertical-align: top;\n",
       "    }\n",
       "\n",
       "    .dataframe thead th {\n",
       "        text-align: right;\n",
       "    }\n",
       "</style>\n",
       "<table border=\"1\" class=\"dataframe\">\n",
       "  <thead>\n",
       "    <tr style=\"text-align: right;\">\n",
       "      <th></th>\n",
       "      <th>Year</th>\n",
       "      <th>Wait_time</th>\n",
       "      <th>Match_time</th>\n",
       "      <th>Team A</th>\n",
       "      <th>Team B</th>\n",
       "      <th>Ping</th>\n",
       "      <th>Kills</th>\n",
       "      <th>Assists</th>\n",
       "      <th>Deaths</th>\n",
       "      <th>Mvp's</th>\n",
       "      <th>HS%</th>\n",
       "      <th>Points</th>\n",
       "    </tr>\n",
       "  </thead>\n",
       "  <tbody>\n",
       "    <tr>\n",
       "      <th>count</th>\n",
       "      <td>1133.000000</td>\n",
       "      <td>1133.000000</td>\n",
       "      <td>1133.000000</td>\n",
       "      <td>1133.000000</td>\n",
       "      <td>1133.000000</td>\n",
       "      <td>1133.000000</td>\n",
       "      <td>1133.000000</td>\n",
       "      <td>1133.000000</td>\n",
       "      <td>1133.000000</td>\n",
       "      <td>1133.000000</td>\n",
       "      <td>1133.000000</td>\n",
       "      <td>1133.000000</td>\n",
       "    </tr>\n",
       "    <tr>\n",
       "      <th>mean</th>\n",
       "      <td>2016.330980</td>\n",
       "      <td>118.533098</td>\n",
       "      <td>2291.438658</td>\n",
       "      <td>12.393645</td>\n",
       "      <td>12.269197</td>\n",
       "      <td>72.494263</td>\n",
       "      <td>14.706090</td>\n",
       "      <td>4.158870</td>\n",
       "      <td>17.034422</td>\n",
       "      <td>1.825243</td>\n",
       "      <td>24.902030</td>\n",
       "      <td>39.217123</td>\n",
       "    </tr>\n",
       "    <tr>\n",
       "      <th>std</th>\n",
       "      <td>1.112443</td>\n",
       "      <td>134.129684</td>\n",
       "      <td>474.524327</td>\n",
       "      <td>4.539815</td>\n",
       "      <td>4.509403</td>\n",
       "      <td>65.995966</td>\n",
       "      <td>5.948775</td>\n",
       "      <td>2.363482</td>\n",
       "      <td>4.792483</td>\n",
       "      <td>1.487699</td>\n",
       "      <td>13.672214</td>\n",
       "      <td>14.898022</td>\n",
       "    </tr>\n",
       "    <tr>\n",
       "      <th>min</th>\n",
       "      <td>2015.000000</td>\n",
       "      <td>0.000000</td>\n",
       "      <td>630.000000</td>\n",
       "      <td>0.000000</td>\n",
       "      <td>0.000000</td>\n",
       "      <td>0.000000</td>\n",
       "      <td>0.000000</td>\n",
       "      <td>0.000000</td>\n",
       "      <td>0.000000</td>\n",
       "      <td>0.000000</td>\n",
       "      <td>0.000000</td>\n",
       "      <td>0.000000</td>\n",
       "    </tr>\n",
       "    <tr>\n",
       "      <th>25%</th>\n",
       "      <td>2015.000000</td>\n",
       "      <td>9.000000</td>\n",
       "      <td>1942.000000</td>\n",
       "      <td>9.000000</td>\n",
       "      <td>9.000000</td>\n",
       "      <td>31.000000</td>\n",
       "      <td>11.000000</td>\n",
       "      <td>2.000000</td>\n",
       "      <td>14.000000</td>\n",
       "      <td>1.000000</td>\n",
       "      <td>16.000000</td>\n",
       "      <td>29.000000</td>\n",
       "    </tr>\n",
       "    <tr>\n",
       "      <th>50%</th>\n",
       "      <td>2017.000000</td>\n",
       "      <td>48.000000</td>\n",
       "      <td>2311.000000</td>\n",
       "      <td>15.000000</td>\n",
       "      <td>15.000000</td>\n",
       "      <td>76.000000</td>\n",
       "      <td>14.000000</td>\n",
       "      <td>4.000000</td>\n",
       "      <td>18.000000</td>\n",
       "      <td>2.000000</td>\n",
       "      <td>23.000000</td>\n",
       "      <td>39.000000</td>\n",
       "    </tr>\n",
       "    <tr>\n",
       "      <th>75%</th>\n",
       "      <td>2017.000000</td>\n",
       "      <td>213.000000</td>\n",
       "      <td>2648.000000</td>\n",
       "      <td>16.000000</td>\n",
       "      <td>16.000000</td>\n",
       "      <td>92.000000</td>\n",
       "      <td>18.000000</td>\n",
       "      <td>6.000000</td>\n",
       "      <td>21.000000</td>\n",
       "      <td>3.000000</td>\n",
       "      <td>33.000000</td>\n",
       "      <td>49.000000</td>\n",
       "    </tr>\n",
       "    <tr>\n",
       "      <th>max</th>\n",
       "      <td>2018.000000</td>\n",
       "      <td>589.000000</td>\n",
       "      <td>3603.000000</td>\n",
       "      <td>16.000000</td>\n",
       "      <td>16.000000</td>\n",
       "      <td>724.000000</td>\n",
       "      <td>36.000000</td>\n",
       "      <td>14.000000</td>\n",
       "      <td>27.000000</td>\n",
       "      <td>8.000000</td>\n",
       "      <td>100.000000</td>\n",
       "      <td>89.000000</td>\n",
       "    </tr>\n",
       "  </tbody>\n",
       "</table>\n",
       "</div>"
      ],
      "text/plain": [
       "              Year    Wait_time   Match_time       Team A       Team B  \\\n",
       "count  1133.000000  1133.000000  1133.000000  1133.000000  1133.000000   \n",
       "mean   2016.330980   118.533098  2291.438658    12.393645    12.269197   \n",
       "std       1.112443   134.129684   474.524327     4.539815     4.509403   \n",
       "min    2015.000000     0.000000   630.000000     0.000000     0.000000   \n",
       "25%    2015.000000     9.000000  1942.000000     9.000000     9.000000   \n",
       "50%    2017.000000    48.000000  2311.000000    15.000000    15.000000   \n",
       "75%    2017.000000   213.000000  2648.000000    16.000000    16.000000   \n",
       "max    2018.000000   589.000000  3603.000000    16.000000    16.000000   \n",
       "\n",
       "              Ping        Kills      Assists       Deaths        Mvp's  \\\n",
       "count  1133.000000  1133.000000  1133.000000  1133.000000  1133.000000   \n",
       "mean     72.494263    14.706090     4.158870    17.034422     1.825243   \n",
       "std      65.995966     5.948775     2.363482     4.792483     1.487699   \n",
       "min       0.000000     0.000000     0.000000     0.000000     0.000000   \n",
       "25%      31.000000    11.000000     2.000000    14.000000     1.000000   \n",
       "50%      76.000000    14.000000     4.000000    18.000000     2.000000   \n",
       "75%      92.000000    18.000000     6.000000    21.000000     3.000000   \n",
       "max     724.000000    36.000000    14.000000    27.000000     8.000000   \n",
       "\n",
       "               HS%       Points  \n",
       "count  1133.000000  1133.000000  \n",
       "mean     24.902030    39.217123  \n",
       "std      13.672214    14.898022  \n",
       "min       0.000000     0.000000  \n",
       "25%      16.000000    29.000000  \n",
       "50%      23.000000    39.000000  \n",
       "75%      33.000000    49.000000  \n",
       "max     100.000000    89.000000  "
      ]
     },
     "execution_count": 7,
     "metadata": {},
     "output_type": "execute_result"
    }
   ],
   "source": [
    "data2.describe()"
   ]
  },
  {
   "cell_type": "markdown",
   "metadata": {},
   "source": [
    "# Data Preprocessing"
   ]
  },
  {
   "cell_type": "markdown",
   "metadata": {},
   "source": [
    "## As we can see there are no irregularities in data\n",
    "### Now we have to find NaN and ?"
   ]
  },
  {
   "cell_type": "code",
   "execution_count": 8,
   "metadata": {},
   "outputs": [
    {
     "data": {
      "text/plain": [
       "Map            1133\n",
       "Year           1133\n",
       "Wait_time      1133\n",
       " Match_time    1133\n",
       "Team A         1133\n",
       "Team B         1133\n",
       "Ping           1133\n",
       "Kills          1133\n",
       "Assists        1133\n",
       "Deaths         1133\n",
       "Mvp's          1133\n",
       "HS%            1133\n",
       "Points         1133\n",
       "Result         1133\n",
       "dtype: int64"
      ]
     },
     "execution_count": 8,
     "metadata": {},
     "output_type": "execute_result"
    }
   ],
   "source": [
    "data2.count()"
   ]
  },
  {
   "cell_type": "markdown",
   "metadata": {},
   "source": [
    "## Here we can see our data is clean and ready for analysis."
   ]
  },
  {
   "cell_type": "code",
   "execution_count": 9,
   "metadata": {
    "scrolled": true
   },
   "outputs": [
    {
     "data": {
      "text/plain": [
       "Map            False\n",
       "Year           False\n",
       "Wait_time      False\n",
       " Match_time    False\n",
       "Team A         False\n",
       "Team B         False\n",
       "Ping           False\n",
       "Kills          False\n",
       "Assists        False\n",
       "Deaths         False\n",
       "Mvp's          False\n",
       "HS%            False\n",
       "Points         False\n",
       "Result         False\n",
       "dtype: bool"
      ]
     },
     "execution_count": 9,
     "metadata": {},
     "output_type": "execute_result"
    }
   ],
   "source": [
    "data2.count().isna()"
   ]
  },
  {
   "cell_type": "markdown",
   "metadata": {},
   "source": [
    "## Exploratory Data Analysis"
   ]
  },
  {
   "cell_type": "code",
   "execution_count": 10,
   "metadata": {},
   "outputs": [
    {
     "data": {
      "text/html": [
       "<div>\n",
       "<style scoped>\n",
       "    .dataframe tbody tr th:only-of-type {\n",
       "        vertical-align: middle;\n",
       "    }\n",
       "\n",
       "    .dataframe tbody tr th {\n",
       "        vertical-align: top;\n",
       "    }\n",
       "\n",
       "    .dataframe thead th {\n",
       "        text-align: right;\n",
       "    }\n",
       "</style>\n",
       "<table border=\"1\" class=\"dataframe\">\n",
       "  <thead>\n",
       "    <tr style=\"text-align: right;\">\n",
       "      <th></th>\n",
       "      <th>Map</th>\n",
       "      <th>Year</th>\n",
       "      <th>Wait_time</th>\n",
       "      <th>Match_time</th>\n",
       "      <th>Team A</th>\n",
       "      <th>Team B</th>\n",
       "      <th>Ping</th>\n",
       "      <th>Kills</th>\n",
       "      <th>Assists</th>\n",
       "      <th>Deaths</th>\n",
       "      <th>Mvp's</th>\n",
       "      <th>HS%</th>\n",
       "      <th>Points</th>\n",
       "      <th>Result</th>\n",
       "    </tr>\n",
       "  </thead>\n",
       "  <tbody>\n",
       "    <tr>\n",
       "      <th>0</th>\n",
       "      <td>Mirage</td>\n",
       "      <td>2018</td>\n",
       "      <td>327</td>\n",
       "      <td>2906</td>\n",
       "      <td>16</td>\n",
       "      <td>13</td>\n",
       "      <td>215</td>\n",
       "      <td>17</td>\n",
       "      <td>2</td>\n",
       "      <td>21</td>\n",
       "      <td>2</td>\n",
       "      <td>5</td>\n",
       "      <td>45</td>\n",
       "      <td>Win</td>\n",
       "    </tr>\n",
       "    <tr>\n",
       "      <th>1</th>\n",
       "      <td>Mirage</td>\n",
       "      <td>2018</td>\n",
       "      <td>336</td>\n",
       "      <td>2592</td>\n",
       "      <td>16</td>\n",
       "      <td>11</td>\n",
       "      <td>199</td>\n",
       "      <td>13</td>\n",
       "      <td>4</td>\n",
       "      <td>24</td>\n",
       "      <td>2</td>\n",
       "      <td>0</td>\n",
       "      <td>40</td>\n",
       "      <td>Lost</td>\n",
       "    </tr>\n",
       "    <tr>\n",
       "      <th>2</th>\n",
       "      <td>Mirage</td>\n",
       "      <td>2018</td>\n",
       "      <td>414</td>\n",
       "      <td>2731</td>\n",
       "      <td>16</td>\n",
       "      <td>14</td>\n",
       "      <td>85</td>\n",
       "      <td>15</td>\n",
       "      <td>3</td>\n",
       "      <td>18</td>\n",
       "      <td>3</td>\n",
       "      <td>26</td>\n",
       "      <td>37</td>\n",
       "      <td>Win</td>\n",
       "    </tr>\n",
       "    <tr>\n",
       "      <th>3</th>\n",
       "      <td>Mirage</td>\n",
       "      <td>2018</td>\n",
       "      <td>317</td>\n",
       "      <td>2379</td>\n",
       "      <td>11</td>\n",
       "      <td>16</td>\n",
       "      <td>93</td>\n",
       "      <td>12</td>\n",
       "      <td>2</td>\n",
       "      <td>15</td>\n",
       "      <td>2</td>\n",
       "      <td>16</td>\n",
       "      <td>30</td>\n",
       "      <td>Lost</td>\n",
       "    </tr>\n",
       "    <tr>\n",
       "      <th>4</th>\n",
       "      <td>Mirage</td>\n",
       "      <td>2018</td>\n",
       "      <td>340</td>\n",
       "      <td>3467</td>\n",
       "      <td>15</td>\n",
       "      <td>15</td>\n",
       "      <td>94</td>\n",
       "      <td>33</td>\n",
       "      <td>5</td>\n",
       "      <td>20</td>\n",
       "      <td>5</td>\n",
       "      <td>30</td>\n",
       "      <td>83</td>\n",
       "      <td>Tie</td>\n",
       "    </tr>\n",
       "  </tbody>\n",
       "</table>\n",
       "</div>"
      ],
      "text/plain": [
       "      Map  Year  Wait_time   Match_time  Team A  Team B  Ping  Kills  Assists  \\\n",
       "0  Mirage  2018        327         2906      16      13   215     17        2   \n",
       "1  Mirage  2018        336         2592      16      11   199     13        4   \n",
       "2  Mirage  2018        414         2731      16      14    85     15        3   \n",
       "3  Mirage  2018        317         2379      11      16    93     12        2   \n",
       "4  Mirage  2018        340         3467      15      15    94     33        5   \n",
       "\n",
       "   Deaths  Mvp's  HS%  Points Result  \n",
       "0      21      2    5      45    Win  \n",
       "1      24      2    0      40   Lost  \n",
       "2      18      3   26      37    Win  \n",
       "3      15      2   16      30   Lost  \n",
       "4      20      5   30      83    Tie  "
      ]
     },
     "execution_count": 10,
     "metadata": {},
     "output_type": "execute_result"
    }
   ],
   "source": [
    "data2.head()"
   ]
  },
  {
   "cell_type": "code",
   "execution_count": 11,
   "metadata": {},
   "outputs": [
    {
     "data": {
      "text/plain": [
       "Dust II        547\n",
       "Mirage         363\n",
       "Inferno        132\n",
       "Cache           59\n",
       "Overpass        13\n",
       "Cobblestone     12\n",
       "Nuke             4\n",
       "Canals           1\n",
       "Italy            1\n",
       "Austria          1\n",
       "Name: Map, dtype: int64"
      ]
     },
     "execution_count": 11,
     "metadata": {},
     "output_type": "execute_result"
    }
   ],
   "source": [
    "data2['Map'].value_counts()"
   ]
  },
  {
   "cell_type": "code",
   "execution_count": 12,
   "metadata": {},
   "outputs": [
    {
     "data": {
      "text/html": [
       "<div>\n",
       "<style scoped>\n",
       "    .dataframe tbody tr th:only-of-type {\n",
       "        vertical-align: middle;\n",
       "    }\n",
       "\n",
       "    .dataframe tbody tr th {\n",
       "        vertical-align: top;\n",
       "    }\n",
       "\n",
       "    .dataframe thead th {\n",
       "        text-align: right;\n",
       "    }\n",
       "</style>\n",
       "<table border=\"1\" class=\"dataframe\">\n",
       "  <thead>\n",
       "    <tr style=\"text-align: right;\">\n",
       "      <th></th>\n",
       "      <th>Map</th>\n",
       "      <th>Year</th>\n",
       "      <th>Wait_time</th>\n",
       "      <th>Match_time</th>\n",
       "      <th>Team A</th>\n",
       "      <th>Team B</th>\n",
       "      <th>Ping</th>\n",
       "      <th>Kills</th>\n",
       "      <th>Assists</th>\n",
       "      <th>Deaths</th>\n",
       "      <th>Mvp's</th>\n",
       "      <th>HS%</th>\n",
       "      <th>Points</th>\n",
       "      <th>Result</th>\n",
       "    </tr>\n",
       "  </thead>\n",
       "  <tbody>\n",
       "    <tr>\n",
       "      <th>1109</th>\n",
       "      <td>Mirage</td>\n",
       "      <td>2015</td>\n",
       "      <td>10</td>\n",
       "      <td>2131</td>\n",
       "      <td>8</td>\n",
       "      <td>16</td>\n",
       "      <td>0</td>\n",
       "      <td>1</td>\n",
       "      <td>2</td>\n",
       "      <td>8</td>\n",
       "      <td>0</td>\n",
       "      <td>0</td>\n",
       "      <td>4</td>\n",
       "      <td>Lost</td>\n",
       "    </tr>\n",
       "    <tr>\n",
       "      <th>1115</th>\n",
       "      <td>Mirage</td>\n",
       "      <td>2015</td>\n",
       "      <td>11</td>\n",
       "      <td>2032</td>\n",
       "      <td>4</td>\n",
       "      <td>16</td>\n",
       "      <td>40</td>\n",
       "      <td>12</td>\n",
       "      <td>7</td>\n",
       "      <td>17</td>\n",
       "      <td>2</td>\n",
       "      <td>58</td>\n",
       "      <td>32</td>\n",
       "      <td>Lost</td>\n",
       "    </tr>\n",
       "    <tr>\n",
       "      <th>1117</th>\n",
       "      <td>Mirage</td>\n",
       "      <td>2015</td>\n",
       "      <td>6</td>\n",
       "      <td>1877</td>\n",
       "      <td>16</td>\n",
       "      <td>5</td>\n",
       "      <td>25</td>\n",
       "      <td>10</td>\n",
       "      <td>3</td>\n",
       "      <td>15</td>\n",
       "      <td>2</td>\n",
       "      <td>10</td>\n",
       "      <td>32</td>\n",
       "      <td>Lost</td>\n",
       "    </tr>\n",
       "    <tr>\n",
       "      <th>1120</th>\n",
       "      <td>Mirage</td>\n",
       "      <td>2015</td>\n",
       "      <td>30</td>\n",
       "      <td>2435</td>\n",
       "      <td>16</td>\n",
       "      <td>12</td>\n",
       "      <td>34</td>\n",
       "      <td>14</td>\n",
       "      <td>9</td>\n",
       "      <td>21</td>\n",
       "      <td>1</td>\n",
       "      <td>28</td>\n",
       "      <td>41</td>\n",
       "      <td>Win</td>\n",
       "    </tr>\n",
       "    <tr>\n",
       "      <th>1121</th>\n",
       "      <td>Mirage</td>\n",
       "      <td>2015</td>\n",
       "      <td>1</td>\n",
       "      <td>2299</td>\n",
       "      <td>9</td>\n",
       "      <td>16</td>\n",
       "      <td>0</td>\n",
       "      <td>11</td>\n",
       "      <td>4</td>\n",
       "      <td>16</td>\n",
       "      <td>2</td>\n",
       "      <td>15</td>\n",
       "      <td>33</td>\n",
       "      <td>Lost</td>\n",
       "    </tr>\n",
       "  </tbody>\n",
       "</table>\n",
       "</div>"
      ],
      "text/plain": [
       "         Map  Year  Wait_time   Match_time  Team A  Team B  Ping  Kills  \\\n",
       "1109  Mirage  2015         10         2131       8      16     0      1   \n",
       "1115  Mirage  2015         11         2032       4      16    40     12   \n",
       "1117  Mirage  2015          6         1877      16       5    25     10   \n",
       "1120  Mirage  2015         30         2435      16      12    34     14   \n",
       "1121  Mirage  2015          1         2299       9      16     0     11   \n",
       "\n",
       "      Assists  Deaths  Mvp's  HS%  Points Result  \n",
       "1109        2       8      0    0       4   Lost  \n",
       "1115        7      17      2   58      32   Lost  \n",
       "1117        3      15      2   10      32   Lost  \n",
       "1120        9      21      1   28      41    Win  \n",
       "1121        4      16      2   15      33   Lost  "
      ]
     },
     "execution_count": 12,
     "metadata": {},
     "output_type": "execute_result"
    }
   ],
   "source": [
    "x = data2[data2['Map'] == 'Mirage'].tail()\n",
    "x"
   ]
  },
  {
   "cell_type": "code",
   "execution_count": 13,
   "metadata": {},
   "outputs": [
    {
     "data": {
      "text/plain": [
       "Map            0\n",
       "Year           0\n",
       "Wait_time      0\n",
       " Match_time    0\n",
       "Team A         0\n",
       "Team B         0\n",
       "Ping           0\n",
       "Kills          0\n",
       "Assists        0\n",
       "Deaths         0\n",
       "Mvp's          0\n",
       "HS%            0\n",
       "Points         0\n",
       "Result         0\n",
       "dtype: int64"
      ]
     },
     "execution_count": 13,
     "metadata": {},
     "output_type": "execute_result"
    }
   ],
   "source": [
    "data2.isnull().sum()"
   ]
  },
  {
   "cell_type": "code",
   "execution_count": 14,
   "metadata": {},
   "outputs": [
    {
     "data": {
      "text/plain": [
       "Result\n",
       "Lost    560\n",
       "Tie      85\n",
       "Win     488\n",
       "Name: Map, dtype: int64"
      ]
     },
     "execution_count": 14,
     "metadata": {},
     "output_type": "execute_result"
    }
   ],
   "source": [
    "Result = data2.groupby(\"Result\")[\"Map\"].count()\n",
    "Result"
   ]
  },
  {
   "cell_type": "code",
   "execution_count": 15,
   "metadata": {},
   "outputs": [
    {
     "data": {
      "text/plain": [
       "Map\n",
       "Austria          1\n",
       "Cache           59\n",
       "Canals           1\n",
       "Cobblestone     12\n",
       "Dust II        547\n",
       "Inferno        132\n",
       "Italy            1\n",
       "Mirage         363\n",
       "Nuke             4\n",
       "Overpass        13\n",
       "Name: Result, dtype: int64"
      ]
     },
     "execution_count": 15,
     "metadata": {},
     "output_type": "execute_result"
    }
   ],
   "source": [
    "Map = data2.groupby(\"Map\")[\"Result\"].count()\n",
    "Map"
   ]
  },
  {
   "cell_type": "code",
   "execution_count": 16,
   "metadata": {},
   "outputs": [
    {
     "data": {
      "text/plain": [
       "Year             2016.330980\n",
       "Wait_time         118.533098\n",
       " Match_time      2291.438658\n",
       "Team A Rounds      12.393645\n",
       "Team B Rounds      12.269197\n",
       "Ping               72.494263\n",
       "Kills              14.706090\n",
       "Assists             4.158870\n",
       "Deaths             17.034422\n",
       "Mvp's               1.825243\n",
       "HS%                24.902030\n",
       "Points             39.217123\n",
       "dtype: float64"
      ]
     },
     "execution_count": 16,
     "metadata": {},
     "output_type": "execute_result"
    }
   ],
   "source": [
    "data.mean()"
   ]
  },
  {
   "cell_type": "code",
   "execution_count": 17,
   "metadata": {},
   "outputs": [
    {
     "data": {
      "text/plain": [
       "Map              object\n",
       "Year              int64\n",
       "Wait_time         int64\n",
       " Match_time       int64\n",
       "Team A Rounds     int64\n",
       "Team B Rounds     int64\n",
       "Ping              int64\n",
       "Kills             int64\n",
       "Assists           int64\n",
       "Deaths            int64\n",
       "Mvp's             int64\n",
       "HS%               int64\n",
       "Points            int64\n",
       "Result           object\n",
       "dtype: object"
      ]
     },
     "execution_count": 17,
     "metadata": {},
     "output_type": "execute_result"
    }
   ],
   "source": [
    "data.dtypes"
   ]
  },
  {
   "cell_type": "code",
   "execution_count": 18,
   "metadata": {},
   "outputs": [
    {
     "data": {
      "text/html": [
       "<div>\n",
       "<style scoped>\n",
       "    .dataframe tbody tr th:only-of-type {\n",
       "        vertical-align: middle;\n",
       "    }\n",
       "\n",
       "    .dataframe tbody tr th {\n",
       "        vertical-align: top;\n",
       "    }\n",
       "\n",
       "    .dataframe thead th {\n",
       "        text-align: right;\n",
       "    }\n",
       "</style>\n",
       "<table border=\"1\" class=\"dataframe\">\n",
       "  <thead>\n",
       "    <tr style=\"text-align: right;\">\n",
       "      <th></th>\n",
       "      <th>Map</th>\n",
       "      <th>Deaths</th>\n",
       "      <th>Result</th>\n",
       "    </tr>\n",
       "  </thead>\n",
       "  <tbody>\n",
       "    <tr>\n",
       "      <th>0</th>\n",
       "      <td>Mirage</td>\n",
       "      <td>21</td>\n",
       "      <td>Win</td>\n",
       "    </tr>\n",
       "    <tr>\n",
       "      <th>1</th>\n",
       "      <td>Mirage</td>\n",
       "      <td>24</td>\n",
       "      <td>Lost</td>\n",
       "    </tr>\n",
       "    <tr>\n",
       "      <th>2</th>\n",
       "      <td>Mirage</td>\n",
       "      <td>18</td>\n",
       "      <td>Win</td>\n",
       "    </tr>\n",
       "    <tr>\n",
       "      <th>3</th>\n",
       "      <td>Mirage</td>\n",
       "      <td>15</td>\n",
       "      <td>Lost</td>\n",
       "    </tr>\n",
       "    <tr>\n",
       "      <th>4</th>\n",
       "      <td>Mirage</td>\n",
       "      <td>20</td>\n",
       "      <td>Tie</td>\n",
       "    </tr>\n",
       "  </tbody>\n",
       "</table>\n",
       "</div>"
      ],
      "text/plain": [
       "      Map  Deaths Result\n",
       "0  Mirage      21    Win\n",
       "1  Mirage      24   Lost\n",
       "2  Mirage      18    Win\n",
       "3  Mirage      15   Lost\n",
       "4  Mirage      20    Tie"
      ]
     },
     "execution_count": 18,
     "metadata": {},
     "output_type": "execute_result"
    }
   ],
   "source": [
    "df = data2[['Map','Deaths','Result']]\n",
    "df.head()"
   ]
  },
  {
   "cell_type": "code",
   "execution_count": 19,
   "metadata": {},
   "outputs": [
    {
     "data": {
      "text/html": [
       "<div>\n",
       "<style scoped>\n",
       "    .dataframe tbody tr th:only-of-type {\n",
       "        vertical-align: middle;\n",
       "    }\n",
       "\n",
       "    .dataframe tbody tr th {\n",
       "        vertical-align: top;\n",
       "    }\n",
       "\n",
       "    .dataframe thead th {\n",
       "        text-align: right;\n",
       "    }\n",
       "</style>\n",
       "<table border=\"1\" class=\"dataframe\">\n",
       "  <thead>\n",
       "    <tr style=\"text-align: right;\">\n",
       "      <th></th>\n",
       "      <th>Map</th>\n",
       "      <th>Result</th>\n",
       "      <th>Deaths</th>\n",
       "    </tr>\n",
       "  </thead>\n",
       "  <tbody>\n",
       "    <tr>\n",
       "      <th>0</th>\n",
       "      <td>Austria</td>\n",
       "      <td>Lost</td>\n",
       "      <td>22.000000</td>\n",
       "    </tr>\n",
       "    <tr>\n",
       "      <th>1</th>\n",
       "      <td>Cache</td>\n",
       "      <td>Lost</td>\n",
       "      <td>18.310345</td>\n",
       "    </tr>\n",
       "    <tr>\n",
       "      <th>2</th>\n",
       "      <td>Cache</td>\n",
       "      <td>Tie</td>\n",
       "      <td>20.333333</td>\n",
       "    </tr>\n",
       "    <tr>\n",
       "      <th>3</th>\n",
       "      <td>Cache</td>\n",
       "      <td>Win</td>\n",
       "      <td>14.629630</td>\n",
       "    </tr>\n",
       "    <tr>\n",
       "      <th>4</th>\n",
       "      <td>Canals</td>\n",
       "      <td>Win</td>\n",
       "      <td>18.000000</td>\n",
       "    </tr>\n",
       "    <tr>\n",
       "      <th>5</th>\n",
       "      <td>Cobblestone</td>\n",
       "      <td>Lost</td>\n",
       "      <td>18.000000</td>\n",
       "    </tr>\n",
       "    <tr>\n",
       "      <th>6</th>\n",
       "      <td>Cobblestone</td>\n",
       "      <td>Tie</td>\n",
       "      <td>21.000000</td>\n",
       "    </tr>\n",
       "    <tr>\n",
       "      <th>7</th>\n",
       "      <td>Cobblestone</td>\n",
       "      <td>Win</td>\n",
       "      <td>16.000000</td>\n",
       "    </tr>\n",
       "    <tr>\n",
       "      <th>8</th>\n",
       "      <td>Dust II</td>\n",
       "      <td>Lost</td>\n",
       "      <td>18.635338</td>\n",
       "    </tr>\n",
       "    <tr>\n",
       "      <th>9</th>\n",
       "      <td>Dust II</td>\n",
       "      <td>Tie</td>\n",
       "      <td>21.073171</td>\n",
       "    </tr>\n",
       "    <tr>\n",
       "      <th>10</th>\n",
       "      <td>Dust II</td>\n",
       "      <td>Win</td>\n",
       "      <td>14.758333</td>\n",
       "    </tr>\n",
       "    <tr>\n",
       "      <th>11</th>\n",
       "      <td>Inferno</td>\n",
       "      <td>Lost</td>\n",
       "      <td>17.951613</td>\n",
       "    </tr>\n",
       "    <tr>\n",
       "      <th>12</th>\n",
       "      <td>Inferno</td>\n",
       "      <td>Tie</td>\n",
       "      <td>21.888889</td>\n",
       "    </tr>\n",
       "    <tr>\n",
       "      <th>13</th>\n",
       "      <td>Inferno</td>\n",
       "      <td>Win</td>\n",
       "      <td>14.393443</td>\n",
       "    </tr>\n",
       "    <tr>\n",
       "      <th>14</th>\n",
       "      <td>Italy</td>\n",
       "      <td>Lost</td>\n",
       "      <td>17.000000</td>\n",
       "    </tr>\n",
       "    <tr>\n",
       "      <th>15</th>\n",
       "      <td>Mirage</td>\n",
       "      <td>Lost</td>\n",
       "      <td>18.739130</td>\n",
       "    </tr>\n",
       "    <tr>\n",
       "      <th>16</th>\n",
       "      <td>Mirage</td>\n",
       "      <td>Tie</td>\n",
       "      <td>21.741935</td>\n",
       "    </tr>\n",
       "    <tr>\n",
       "      <th>17</th>\n",
       "      <td>Mirage</td>\n",
       "      <td>Win</td>\n",
       "      <td>14.141892</td>\n",
       "    </tr>\n",
       "    <tr>\n",
       "      <th>18</th>\n",
       "      <td>Nuke</td>\n",
       "      <td>Lost</td>\n",
       "      <td>23.333333</td>\n",
       "    </tr>\n",
       "    <tr>\n",
       "      <th>19</th>\n",
       "      <td>Nuke</td>\n",
       "      <td>Win</td>\n",
       "      <td>4.000000</td>\n",
       "    </tr>\n",
       "    <tr>\n",
       "      <th>20</th>\n",
       "      <td>Overpass</td>\n",
       "      <td>Lost</td>\n",
       "      <td>17.500000</td>\n",
       "    </tr>\n",
       "    <tr>\n",
       "      <th>21</th>\n",
       "      <td>Overpass</td>\n",
       "      <td>Win</td>\n",
       "      <td>12.000000</td>\n",
       "    </tr>\n",
       "  </tbody>\n",
       "</table>\n",
       "</div>"
      ],
      "text/plain": [
       "            Map Result     Deaths\n",
       "0       Austria   Lost  22.000000\n",
       "1         Cache   Lost  18.310345\n",
       "2         Cache    Tie  20.333333\n",
       "3         Cache    Win  14.629630\n",
       "4        Canals    Win  18.000000\n",
       "5   Cobblestone   Lost  18.000000\n",
       "6   Cobblestone    Tie  21.000000\n",
       "7   Cobblestone    Win  16.000000\n",
       "8       Dust II   Lost  18.635338\n",
       "9       Dust II    Tie  21.073171\n",
       "10      Dust II    Win  14.758333\n",
       "11      Inferno   Lost  17.951613\n",
       "12      Inferno    Tie  21.888889\n",
       "13      Inferno    Win  14.393443\n",
       "14        Italy   Lost  17.000000\n",
       "15       Mirage   Lost  18.739130\n",
       "16       Mirage    Tie  21.741935\n",
       "17       Mirage    Win  14.141892\n",
       "18         Nuke   Lost  23.333333\n",
       "19         Nuke    Win   4.000000\n",
       "20     Overpass   Lost  17.500000\n",
       "21     Overpass    Win  12.000000"
      ]
     },
     "execution_count": 19,
     "metadata": {},
     "output_type": "execute_result"
    }
   ],
   "source": [
    "df_grp = df.groupby(['Map','Result'],as_index=False).mean()\n",
    "df_grp"
   ]
  },
  {
   "cell_type": "markdown",
   "metadata": {},
   "source": [
    "## Finding Correlation between variables "
   ]
  },
  {
   "cell_type": "code",
   "execution_count": 20,
   "metadata": {},
   "outputs": [
    {
     "data": {
      "text/html": [
       "<div>\n",
       "<style scoped>\n",
       "    .dataframe tbody tr th:only-of-type {\n",
       "        vertical-align: middle;\n",
       "    }\n",
       "\n",
       "    .dataframe tbody tr th {\n",
       "        vertical-align: top;\n",
       "    }\n",
       "\n",
       "    .dataframe thead th {\n",
       "        text-align: right;\n",
       "    }\n",
       "</style>\n",
       "<table border=\"1\" class=\"dataframe\">\n",
       "  <thead>\n",
       "    <tr style=\"text-align: right;\">\n",
       "      <th></th>\n",
       "      <th>Year</th>\n",
       "      <th>Wait_time</th>\n",
       "      <th>Match_time</th>\n",
       "      <th>Team A</th>\n",
       "      <th>Team B</th>\n",
       "      <th>Ping</th>\n",
       "      <th>Kills</th>\n",
       "      <th>Assists</th>\n",
       "      <th>Deaths</th>\n",
       "      <th>Mvp's</th>\n",
       "      <th>HS%</th>\n",
       "      <th>Points</th>\n",
       "    </tr>\n",
       "  </thead>\n",
       "  <tbody>\n",
       "    <tr>\n",
       "      <th>Year</th>\n",
       "      <td>1.000000</td>\n",
       "      <td>0.722384</td>\n",
       "      <td>0.103838</td>\n",
       "      <td>0.009163</td>\n",
       "      <td>0.051958</td>\n",
       "      <td>0.467642</td>\n",
       "      <td>0.049954</td>\n",
       "      <td>0.013246</td>\n",
       "      <td>-0.015560</td>\n",
       "      <td>0.065940</td>\n",
       "      <td>-0.124077</td>\n",
       "      <td>0.022791</td>\n",
       "    </tr>\n",
       "    <tr>\n",
       "      <th>Wait_time</th>\n",
       "      <td>0.722384</td>\n",
       "      <td>1.000000</td>\n",
       "      <td>0.105701</td>\n",
       "      <td>0.000087</td>\n",
       "      <td>0.061210</td>\n",
       "      <td>0.360560</td>\n",
       "      <td>0.041506</td>\n",
       "      <td>0.011896</td>\n",
       "      <td>0.004182</td>\n",
       "      <td>0.047637</td>\n",
       "      <td>-0.064931</td>\n",
       "      <td>0.027221</td>\n",
       "    </tr>\n",
       "    <tr>\n",
       "      <th>Match_time</th>\n",
       "      <td>0.103838</td>\n",
       "      <td>0.105701</td>\n",
       "      <td>1.000000</td>\n",
       "      <td>0.425267</td>\n",
       "      <td>0.419203</td>\n",
       "      <td>0.058498</td>\n",
       "      <td>0.439178</td>\n",
       "      <td>0.310732</td>\n",
       "      <td>0.619812</td>\n",
       "      <td>0.221049</td>\n",
       "      <td>0.002201</td>\n",
       "      <td>0.491566</td>\n",
       "    </tr>\n",
       "    <tr>\n",
       "      <th>Team A</th>\n",
       "      <td>0.009163</td>\n",
       "      <td>0.000087</td>\n",
       "      <td>0.425267</td>\n",
       "      <td>1.000000</td>\n",
       "      <td>-0.580434</td>\n",
       "      <td>0.005601</td>\n",
       "      <td>0.226000</td>\n",
       "      <td>0.143679</td>\n",
       "      <td>0.268004</td>\n",
       "      <td>0.099137</td>\n",
       "      <td>-0.073557</td>\n",
       "      <td>0.241780</td>\n",
       "    </tr>\n",
       "    <tr>\n",
       "      <th>Team B</th>\n",
       "      <td>0.051958</td>\n",
       "      <td>0.061210</td>\n",
       "      <td>0.419203</td>\n",
       "      <td>-0.580434</td>\n",
       "      <td>1.000000</td>\n",
       "      <td>0.046266</td>\n",
       "      <td>0.183020</td>\n",
       "      <td>0.158358</td>\n",
       "      <td>0.331202</td>\n",
       "      <td>0.090372</td>\n",
       "      <td>0.079864</td>\n",
       "      <td>0.212715</td>\n",
       "    </tr>\n",
       "  </tbody>\n",
       "</table>\n",
       "</div>"
      ],
      "text/plain": [
       "                 Year  Wait_time   Match_time    Team A    Team B      Ping  \\\n",
       "Year         1.000000   0.722384     0.103838  0.009163  0.051958  0.467642   \n",
       "Wait_time    0.722384   1.000000     0.105701  0.000087  0.061210  0.360560   \n",
       " Match_time  0.103838   0.105701     1.000000  0.425267  0.419203  0.058498   \n",
       "Team A       0.009163   0.000087     0.425267  1.000000 -0.580434  0.005601   \n",
       "Team B       0.051958   0.061210     0.419203 -0.580434  1.000000  0.046266   \n",
       "\n",
       "                Kills   Assists    Deaths     Mvp's       HS%    Points  \n",
       "Year         0.049954  0.013246 -0.015560  0.065940 -0.124077  0.022791  \n",
       "Wait_time    0.041506  0.011896  0.004182  0.047637 -0.064931  0.027221  \n",
       " Match_time  0.439178  0.310732  0.619812  0.221049  0.002201  0.491566  \n",
       "Team A       0.226000  0.143679  0.268004  0.099137 -0.073557  0.241780  \n",
       "Team B       0.183020  0.158358  0.331202  0.090372  0.079864  0.212715  "
      ]
     },
     "execution_count": 20,
     "metadata": {},
     "output_type": "execute_result"
    }
   ],
   "source": [
    "data2.corr().head()"
   ]
  },
  {
   "cell_type": "code",
   "execution_count": 21,
   "metadata": {},
   "outputs": [
    {
     "data": {
      "text/html": [
       "<div>\n",
       "<style scoped>\n",
       "    .dataframe tbody tr th:only-of-type {\n",
       "        vertical-align: middle;\n",
       "    }\n",
       "\n",
       "    .dataframe tbody tr th {\n",
       "        vertical-align: top;\n",
       "    }\n",
       "\n",
       "    .dataframe thead th {\n",
       "        text-align: right;\n",
       "    }\n",
       "</style>\n",
       "<table border=\"1\" class=\"dataframe\">\n",
       "  <thead>\n",
       "    <tr style=\"text-align: right;\">\n",
       "      <th></th>\n",
       "      <th>HS%</th>\n",
       "      <th>Points</th>\n",
       "    </tr>\n",
       "  </thead>\n",
       "  <tbody>\n",
       "    <tr>\n",
       "      <th>HS%</th>\n",
       "      <td>1.000000</td>\n",
       "      <td>-0.013509</td>\n",
       "    </tr>\n",
       "    <tr>\n",
       "      <th>Points</th>\n",
       "      <td>-0.013509</td>\n",
       "      <td>1.000000</td>\n",
       "    </tr>\n",
       "  </tbody>\n",
       "</table>\n",
       "</div>"
      ],
      "text/plain": [
       "             HS%    Points\n",
       "HS%     1.000000 -0.013509\n",
       "Points -0.013509  1.000000"
      ]
     },
     "execution_count": 21,
     "metadata": {},
     "output_type": "execute_result"
    }
   ],
   "source": [
    "data2[['HS%','Points']].corr()"
   ]
  },
  {
   "cell_type": "code",
   "execution_count": 22,
   "metadata": {},
   "outputs": [
    {
     "data": {
      "text/html": [
       "<div>\n",
       "<style scoped>\n",
       "    .dataframe tbody tr th:only-of-type {\n",
       "        vertical-align: middle;\n",
       "    }\n",
       "\n",
       "    .dataframe tbody tr th {\n",
       "        vertical-align: top;\n",
       "    }\n",
       "\n",
       "    .dataframe thead th {\n",
       "        text-align: right;\n",
       "    }\n",
       "</style>\n",
       "<table border=\"1\" class=\"dataframe\">\n",
       "  <thead>\n",
       "    <tr style=\"text-align: right;\">\n",
       "      <th></th>\n",
       "      <th>Deaths</th>\n",
       "      <th>Points</th>\n",
       "    </tr>\n",
       "  </thead>\n",
       "  <tbody>\n",
       "    <tr>\n",
       "      <th>Deaths</th>\n",
       "      <td>1.000000</td>\n",
       "      <td>0.301727</td>\n",
       "    </tr>\n",
       "    <tr>\n",
       "      <th>Points</th>\n",
       "      <td>0.301727</td>\n",
       "      <td>1.000000</td>\n",
       "    </tr>\n",
       "  </tbody>\n",
       "</table>\n",
       "</div>"
      ],
      "text/plain": [
       "          Deaths    Points\n",
       "Deaths  1.000000  0.301727\n",
       "Points  0.301727  1.000000"
      ]
     },
     "execution_count": 22,
     "metadata": {},
     "output_type": "execute_result"
    }
   ],
   "source": [
    "data2[['Deaths','Points']].corr()"
   ]
  },
  {
   "cell_type": "code",
   "execution_count": 23,
   "metadata": {},
   "outputs": [
    {
     "data": {
      "text/html": [
       "<div>\n",
       "<style scoped>\n",
       "    .dataframe tbody tr th:only-of-type {\n",
       "        vertical-align: middle;\n",
       "    }\n",
       "\n",
       "    .dataframe tbody tr th {\n",
       "        vertical-align: top;\n",
       "    }\n",
       "\n",
       "    .dataframe thead th {\n",
       "        text-align: right;\n",
       "    }\n",
       "</style>\n",
       "<table border=\"1\" class=\"dataframe\">\n",
       "  <thead>\n",
       "    <tr style=\"text-align: right;\">\n",
       "      <th></th>\n",
       "      <th>Wait_time</th>\n",
       "      <th>Ping</th>\n",
       "    </tr>\n",
       "  </thead>\n",
       "  <tbody>\n",
       "    <tr>\n",
       "      <th>Wait_time</th>\n",
       "      <td>1.00000</td>\n",
       "      <td>0.36056</td>\n",
       "    </tr>\n",
       "    <tr>\n",
       "      <th>Ping</th>\n",
       "      <td>0.36056</td>\n",
       "      <td>1.00000</td>\n",
       "    </tr>\n",
       "  </tbody>\n",
       "</table>\n",
       "</div>"
      ],
      "text/plain": [
       "           Wait_time     Ping\n",
       "Wait_time    1.00000  0.36056\n",
       "Ping         0.36056  1.00000"
      ]
     },
     "execution_count": 23,
     "metadata": {},
     "output_type": "execute_result"
    }
   ],
   "source": [
    "data2[['Wait_time','Ping']].corr()"
   ]
  },
  {
   "cell_type": "markdown",
   "metadata": {},
   "source": [
    "## Data Visualization "
   ]
  },
  {
   "cell_type": "markdown",
   "metadata": {},
   "source": [
    "### We will use Matplotlib and Seaborn as Data Visualization Libraries"
   ]
  },
  {
   "cell_type": "code",
   "execution_count": 25,
   "metadata": {},
   "outputs": [
    {
     "data": {
      "text/html": [
       "<div>\n",
       "<style scoped>\n",
       "    .dataframe tbody tr th:only-of-type {\n",
       "        vertical-align: middle;\n",
       "    }\n",
       "\n",
       "    .dataframe tbody tr th {\n",
       "        vertical-align: top;\n",
       "    }\n",
       "\n",
       "    .dataframe thead th {\n",
       "        text-align: right;\n",
       "    }\n",
       "</style>\n",
       "<table border=\"1\" class=\"dataframe\">\n",
       "  <thead>\n",
       "    <tr style=\"text-align: right;\">\n",
       "      <th></th>\n",
       "      <th>Map</th>\n",
       "      <th>Year</th>\n",
       "      <th>Wait_time</th>\n",
       "      <th>Match_time</th>\n",
       "      <th>Team A</th>\n",
       "      <th>Team B</th>\n",
       "      <th>Ping</th>\n",
       "      <th>Kills</th>\n",
       "      <th>Assists</th>\n",
       "      <th>Deaths</th>\n",
       "      <th>Mvp's</th>\n",
       "      <th>HS%</th>\n",
       "      <th>Points</th>\n",
       "      <th>Result</th>\n",
       "    </tr>\n",
       "  </thead>\n",
       "  <tbody>\n",
       "    <tr>\n",
       "      <th>0</th>\n",
       "      <td>Mirage</td>\n",
       "      <td>2018</td>\n",
       "      <td>327</td>\n",
       "      <td>2906</td>\n",
       "      <td>16</td>\n",
       "      <td>13</td>\n",
       "      <td>215</td>\n",
       "      <td>17</td>\n",
       "      <td>2</td>\n",
       "      <td>21</td>\n",
       "      <td>2</td>\n",
       "      <td>5</td>\n",
       "      <td>45</td>\n",
       "      <td>Win</td>\n",
       "    </tr>\n",
       "    <tr>\n",
       "      <th>1</th>\n",
       "      <td>Mirage</td>\n",
       "      <td>2018</td>\n",
       "      <td>336</td>\n",
       "      <td>2592</td>\n",
       "      <td>16</td>\n",
       "      <td>11</td>\n",
       "      <td>199</td>\n",
       "      <td>13</td>\n",
       "      <td>4</td>\n",
       "      <td>24</td>\n",
       "      <td>2</td>\n",
       "      <td>0</td>\n",
       "      <td>40</td>\n",
       "      <td>Lost</td>\n",
       "    </tr>\n",
       "    <tr>\n",
       "      <th>2</th>\n",
       "      <td>Mirage</td>\n",
       "      <td>2018</td>\n",
       "      <td>414</td>\n",
       "      <td>2731</td>\n",
       "      <td>16</td>\n",
       "      <td>14</td>\n",
       "      <td>85</td>\n",
       "      <td>15</td>\n",
       "      <td>3</td>\n",
       "      <td>18</td>\n",
       "      <td>3</td>\n",
       "      <td>26</td>\n",
       "      <td>37</td>\n",
       "      <td>Win</td>\n",
       "    </tr>\n",
       "    <tr>\n",
       "      <th>3</th>\n",
       "      <td>Mirage</td>\n",
       "      <td>2018</td>\n",
       "      <td>317</td>\n",
       "      <td>2379</td>\n",
       "      <td>11</td>\n",
       "      <td>16</td>\n",
       "      <td>93</td>\n",
       "      <td>12</td>\n",
       "      <td>2</td>\n",
       "      <td>15</td>\n",
       "      <td>2</td>\n",
       "      <td>16</td>\n",
       "      <td>30</td>\n",
       "      <td>Lost</td>\n",
       "    </tr>\n",
       "    <tr>\n",
       "      <th>4</th>\n",
       "      <td>Mirage</td>\n",
       "      <td>2018</td>\n",
       "      <td>340</td>\n",
       "      <td>3467</td>\n",
       "      <td>15</td>\n",
       "      <td>15</td>\n",
       "      <td>94</td>\n",
       "      <td>33</td>\n",
       "      <td>5</td>\n",
       "      <td>20</td>\n",
       "      <td>5</td>\n",
       "      <td>30</td>\n",
       "      <td>83</td>\n",
       "      <td>Tie</td>\n",
       "    </tr>\n",
       "  </tbody>\n",
       "</table>\n",
       "</div>"
      ],
      "text/plain": [
       "      Map  Year  Wait_time   Match_time  Team A  Team B  Ping  Kills  Assists  \\\n",
       "0  Mirage  2018        327         2906      16      13   215     17        2   \n",
       "1  Mirage  2018        336         2592      16      11   199     13        4   \n",
       "2  Mirage  2018        414         2731      16      14    85     15        3   \n",
       "3  Mirage  2018        317         2379      11      16    93     12        2   \n",
       "4  Mirage  2018        340         3467      15      15    94     33        5   \n",
       "\n",
       "   Deaths  Mvp's  HS%  Points Result  \n",
       "0      21      2    5      45    Win  \n",
       "1      24      2    0      40   Lost  \n",
       "2      18      3   26      37    Win  \n",
       "3      15      2   16      30   Lost  \n",
       "4      20      5   30      83    Tie  "
      ]
     },
     "execution_count": 25,
     "metadata": {},
     "output_type": "execute_result"
    }
   ],
   "source": [
    "data2.head()"
   ]
  },
  {
   "cell_type": "markdown",
   "metadata": {},
   "source": [
    "### We will plot results of both teams with their total winning rounds "
   ]
  },
  {
   "cell_type": "code",
   "execution_count": 26,
   "metadata": {},
   "outputs": [
    {
     "data": {
      "text/plain": [
       "<seaborn.axisgrid.FacetGrid at 0x1bb19f39be0>"
      ]
     },
     "execution_count": 26,
     "metadata": {},
     "output_type": "execute_result"
    },
    {
     "data": {
      "image/png": "[encoded data removed]",
      "text/plain": [
       "<Figure size 416.5x360 with 1 Axes>"
      ]
     },
     "metadata": {
      "needs_background": "light"
     },
     "output_type": "display_data"
    }
   ],
   "source": [
    "team1 = data2['Team A']\n",
    "res = data2['Result']\n",
    "\n",
    "cal  = data2[\"Points\"]\n",
    "\n",
    "sns.relplot(x = team1,y = cal, hue = res,kind ='scatter', data=data2)"
   ]
  },
  {
   "cell_type": "markdown",
   "metadata": {},
   "source": [
    "### Graph of team B"
   ]
  },
  {
   "cell_type": "code",
   "execution_count": 27,
   "metadata": {},
   "outputs": [
    {
     "data": {
      "text/plain": [
       "<seaborn.axisgrid.FacetGrid at 0x1bb1a21b430>"
      ]
     },
     "execution_count": 27,
     "metadata": {},
     "output_type": "execute_result"
    },
    {
     "data": {
      "image/png": "[encoded data removed]",
      "text/plain": [
       "<Figure size 416.5x360 with 1 Axes>"
      ]
     },
     "metadata": {
      "needs_background": "light"
     },
     "output_type": "display_data"
    }
   ],
   "source": [
    "team1 = data2['Team B']\n",
    "res = data2['Result']\n",
    "\n",
    "cal  = data2[\"Points\"]\n",
    "\n",
    "sns.relplot(x = team1,y = cal, hue = res,kind ='scatter', data=data2)"
   ]
  },
  {
   "cell_type": "code",
   "execution_count": 28,
   "metadata": {},
   "outputs": [
    {
     "data": {
      "text/plain": [
       "<seaborn.axisgrid.FacetGrid at 0x1bb1a380af0>"
      ]
     },
     "execution_count": 28,
     "metadata": {},
     "output_type": "execute_result"
    },
    {
     "data": {
      "image/png": "[encoded data removed]",
      "text/plain": [
       "<Figure size 416.5x360 with 1 Axes>"
      ]
     },
     "metadata": {
      "needs_background": "light"
     },
     "output_type": "display_data"
    }
   ],
   "source": [
    "sns.relplot(x='Wait_time',y='Ping',hue='Result',data=data2)"
   ]
  },
  {
   "cell_type": "markdown",
   "metadata": {},
   "source": [
    "### Q.)Grouping Team A with Points and Result to plot relationships."
   ]
  },
  {
   "cell_type": "code",
   "execution_count": 29,
   "metadata": {},
   "outputs": [
    {
     "data": {
      "text/html": [
       "<div>\n",
       "<style scoped>\n",
       "    .dataframe tbody tr th:only-of-type {\n",
       "        vertical-align: middle;\n",
       "    }\n",
       "\n",
       "    .dataframe tbody tr th {\n",
       "        vertical-align: top;\n",
       "    }\n",
       "\n",
       "    .dataframe thead th {\n",
       "        text-align: right;\n",
       "    }\n",
       "</style>\n",
       "<table border=\"1\" class=\"dataframe\">\n",
       "  <thead>\n",
       "    <tr style=\"text-align: right;\">\n",
       "      <th></th>\n",
       "      <th>Points</th>\n",
       "      <th>Result</th>\n",
       "      <th>Team A</th>\n",
       "    </tr>\n",
       "  </thead>\n",
       "  <tbody>\n",
       "    <tr>\n",
       "      <th>0</th>\n",
       "      <td>0</td>\n",
       "      <td>Lost</td>\n",
       "      <td>10.50</td>\n",
       "    </tr>\n",
       "    <tr>\n",
       "      <th>1</th>\n",
       "      <td>0</td>\n",
       "      <td>Win</td>\n",
       "      <td>12.00</td>\n",
       "    </tr>\n",
       "    <tr>\n",
       "      <th>2</th>\n",
       "      <td>1</td>\n",
       "      <td>Lost</td>\n",
       "      <td>13.25</td>\n",
       "    </tr>\n",
       "    <tr>\n",
       "      <th>3</th>\n",
       "      <td>2</td>\n",
       "      <td>Lost</td>\n",
       "      <td>16.00</td>\n",
       "    </tr>\n",
       "    <tr>\n",
       "      <th>4</th>\n",
       "      <td>2</td>\n",
       "      <td>Win</td>\n",
       "      <td>8.00</td>\n",
       "    </tr>\n",
       "    <tr>\n",
       "      <th>...</th>\n",
       "      <td>...</td>\n",
       "      <td>...</td>\n",
       "      <td>...</td>\n",
       "    </tr>\n",
       "    <tr>\n",
       "      <th>185</th>\n",
       "      <td>83</td>\n",
       "      <td>Tie</td>\n",
       "      <td>15.00</td>\n",
       "    </tr>\n",
       "    <tr>\n",
       "      <th>186</th>\n",
       "      <td>83</td>\n",
       "      <td>Win</td>\n",
       "      <td>16.00</td>\n",
       "    </tr>\n",
       "    <tr>\n",
       "      <th>187</th>\n",
       "      <td>88</td>\n",
       "      <td>Win</td>\n",
       "      <td>16.00</td>\n",
       "    </tr>\n",
       "    <tr>\n",
       "      <th>188</th>\n",
       "      <td>89</td>\n",
       "      <td>Lost</td>\n",
       "      <td>14.00</td>\n",
       "    </tr>\n",
       "    <tr>\n",
       "      <th>189</th>\n",
       "      <td>89</td>\n",
       "      <td>Tie</td>\n",
       "      <td>15.00</td>\n",
       "    </tr>\n",
       "  </tbody>\n",
       "</table>\n",
       "<p>190 rows × 3 columns</p>\n",
       "</div>"
      ],
      "text/plain": [
       "     Points Result  Team A\n",
       "0         0   Lost   10.50\n",
       "1         0    Win   12.00\n",
       "2         1   Lost   13.25\n",
       "3         2   Lost   16.00\n",
       "4         2    Win    8.00\n",
       "..      ...    ...     ...\n",
       "185      83    Tie   15.00\n",
       "186      83    Win   16.00\n",
       "187      88    Win   16.00\n",
       "188      89   Lost   14.00\n",
       "189      89    Tie   15.00\n",
       "\n",
       "[190 rows x 3 columns]"
      ]
     },
     "execution_count": 29,
     "metadata": {},
     "output_type": "execute_result"
    },
    {
     "data": {
      "image/png": "[encoded data removed]",
      "text/plain": [
       "<Figure size 360x360 with 6 Axes>"
      ]
     },
     "metadata": {
      "needs_background": "light"
     },
     "output_type": "display_data"
    }
   ],
   "source": [
    "df1 = data2[['Team A','Points','Result']]\n",
    "df_grp = df1.groupby(['Points','Result'],as_index=False).mean()\n",
    "df_grp\n",
    "\n",
    "plot = sns.pairplot(df_grp)\n",
    "df_grp"
   ]
  },
  {
   "cell_type": "code",
   "execution_count": 30,
   "metadata": {},
   "outputs": [
    {
     "data": {
      "text/plain": [
       "<AxesSubplot:xlabel='Kills', ylabel='Assists'>"
      ]
     },
     "execution_count": 30,
     "metadata": {},
     "output_type": "execute_result"
    },
    {
     "data": {
      "image/png": "[encoded data removed]",
      "text/plain": [
       "<Figure size 432x288 with 1 Axes>"
      ]
     },
     "metadata": {
      "needs_background": "light"
     },
     "output_type": "display_data"
    }
   ],
   "source": [
    "sns.regplot(x='Kills',y='Assists',data=data2)"
   ]
  },
  {
   "cell_type": "code",
   "execution_count": 31,
   "metadata": {},
   "outputs": [
    {
     "data": {
      "image/png": "[encoded data removed]",
      "text/plain": [
       "<Figure size 416.5x360 with 1 Axes>"
      ]
     },
     "metadata": {
      "needs_background": "light"
     },
     "output_type": "display_data"
    }
   ],
   "source": [
    "sns.lmplot(x=\"Deaths\", y=\"Kills\", hue=\"Result\", data=data2);\n"
   ]
  },
  {
   "cell_type": "code",
   "execution_count": 32,
   "metadata": {},
   "outputs": [
    {
     "data": {
      "text/plain": [
       "<AxesSubplot:xlabel='Count', ylabel='Map'>"
      ]
     },
     "execution_count": 32,
     "metadata": {},
     "output_type": "execute_result"
    },
    {
     "data": {
      "image/png": "[encoded data removed]",
      "text/plain": [
       "<Figure size 432x288 with 1 Axes>"
      ]
     },
     "metadata": {
      "needs_background": "light"
     },
     "output_type": "display_data"
    }
   ],
   "source": [
    "sns.histplot(y=data2['Map'],hue=data2['Result'])"
   ]
  },
  {
   "cell_type": "code",
   "execution_count": 33,
   "metadata": {},
   "outputs": [
    {
     "data": {
      "text/plain": [
       "<AxesSubplot:xlabel='Kills', ylabel='Deaths'>"
      ]
     },
     "execution_count": 33,
     "metadata": {},
     "output_type": "execute_result"
    },
    {
     "data": {
      "image/png": "[encoded data removed]",
      "text/plain": [
       "<Figure size 432x288 with 1 Axes>"
      ]
     },
     "metadata": {
      "needs_background": "light"
     },
     "output_type": "display_data"
    }
   ],
   "source": [
    "sns.residplot(x = data2['Kills'],y = data2['Deaths'])"
   ]
  },
  {
   "cell_type": "markdown",
   "metadata": {},
   "source": [
    "### Calculating Pearson Coefficient "
   ]
  },
  {
   "cell_type": "code",
   "execution_count": 34,
   "metadata": {},
   "outputs": [
    {
     "name": "stdout",
     "output_type": "stream",
     "text": [
      "Pearson Coefficient: 0.3605601603254368\n",
      "P_Value : 4.09939204617009e-36\n"
     ]
    }
   ],
   "source": [
    "w_time = data2['Wait_time']\n",
    "ping = data2['Ping']\n",
    "\n",
    "p_coeff,p_value = pearsonr(w_time,ping)\n",
    "print ('Pearson Coefficient:', p_coeff)\n",
    "print('P_Value :',p_value)"
   ]
  },
  {
   "cell_type": "code",
   "execution_count": 35,
   "metadata": {},
   "outputs": [
    {
     "name": "stdout",
     "output_type": "stream",
     "text": [
      "Pearson Coefficient: 0.26432486443329944\n",
      "p_value 1.445684055760093e-19\n",
      "Pearson Coefficient: 0.30999627001081353\n",
      "p_value: 1.1666200870375445e-26\n"
     ]
    }
   ],
   "source": [
    "kills = data2['Kills']\n",
    "assists = data2['Assists']\n",
    "deaths = data2['Deaths']\n",
    "\n",
    "p_coeff,p_value = pearsonr(kills,deaths)\n",
    "print('Pearson Coefficient:',p_coeff)\n",
    "print('p_value',p_value)\n",
    "\n",
    "p_coeff2,p_value2 = pearsonr(assists,deaths)\n",
    "print('Pearson Coefficient:',p_coeff2)\n",
    "print('p_value:',p_value2)\n",
    "\n"
   ]
  },
  {
   "cell_type": "markdown",
   "metadata": {},
   "source": [
    "# Feature Selection"
   ]
  },
  {
   "cell_type": "code",
   "execution_count": 36,
   "metadata": {},
   "outputs": [
    {
     "data": {
      "text/html": [
       "<div>\n",
       "<style scoped>\n",
       "    .dataframe tbody tr th:only-of-type {\n",
       "        vertical-align: middle;\n",
       "    }\n",
       "\n",
       "    .dataframe tbody tr th {\n",
       "        vertical-align: top;\n",
       "    }\n",
       "\n",
       "    .dataframe thead th {\n",
       "        text-align: right;\n",
       "    }\n",
       "</style>\n",
       "<table border=\"1\" class=\"dataframe\">\n",
       "  <thead>\n",
       "    <tr style=\"text-align: right;\">\n",
       "      <th></th>\n",
       "      <th>Map</th>\n",
       "      <th>Year</th>\n",
       "      <th>Wait_time</th>\n",
       "      <th>Match_time</th>\n",
       "      <th>Team A</th>\n",
       "      <th>Team B</th>\n",
       "      <th>Ping</th>\n",
       "      <th>Kills</th>\n",
       "      <th>Assists</th>\n",
       "      <th>Deaths</th>\n",
       "      <th>Mvp's</th>\n",
       "      <th>HS%</th>\n",
       "      <th>Points</th>\n",
       "      <th>Result</th>\n",
       "    </tr>\n",
       "  </thead>\n",
       "  <tbody>\n",
       "    <tr>\n",
       "      <th>0</th>\n",
       "      <td>Mirage</td>\n",
       "      <td>2018</td>\n",
       "      <td>327</td>\n",
       "      <td>2906</td>\n",
       "      <td>16</td>\n",
       "      <td>13</td>\n",
       "      <td>215</td>\n",
       "      <td>17</td>\n",
       "      <td>2</td>\n",
       "      <td>21</td>\n",
       "      <td>2</td>\n",
       "      <td>5</td>\n",
       "      <td>45</td>\n",
       "      <td>Win</td>\n",
       "    </tr>\n",
       "    <tr>\n",
       "      <th>1</th>\n",
       "      <td>Mirage</td>\n",
       "      <td>2018</td>\n",
       "      <td>336</td>\n",
       "      <td>2592</td>\n",
       "      <td>16</td>\n",
       "      <td>11</td>\n",
       "      <td>199</td>\n",
       "      <td>13</td>\n",
       "      <td>4</td>\n",
       "      <td>24</td>\n",
       "      <td>2</td>\n",
       "      <td>0</td>\n",
       "      <td>40</td>\n",
       "      <td>Lost</td>\n",
       "    </tr>\n",
       "    <tr>\n",
       "      <th>2</th>\n",
       "      <td>Mirage</td>\n",
       "      <td>2018</td>\n",
       "      <td>414</td>\n",
       "      <td>2731</td>\n",
       "      <td>16</td>\n",
       "      <td>14</td>\n",
       "      <td>85</td>\n",
       "      <td>15</td>\n",
       "      <td>3</td>\n",
       "      <td>18</td>\n",
       "      <td>3</td>\n",
       "      <td>26</td>\n",
       "      <td>37</td>\n",
       "      <td>Win</td>\n",
       "    </tr>\n",
       "    <tr>\n",
       "      <th>3</th>\n",
       "      <td>Mirage</td>\n",
       "      <td>2018</td>\n",
       "      <td>317</td>\n",
       "      <td>2379</td>\n",
       "      <td>11</td>\n",
       "      <td>16</td>\n",
       "      <td>93</td>\n",
       "      <td>12</td>\n",
       "      <td>2</td>\n",
       "      <td>15</td>\n",
       "      <td>2</td>\n",
       "      <td>16</td>\n",
       "      <td>30</td>\n",
       "      <td>Lost</td>\n",
       "    </tr>\n",
       "    <tr>\n",
       "      <th>4</th>\n",
       "      <td>Mirage</td>\n",
       "      <td>2018</td>\n",
       "      <td>340</td>\n",
       "      <td>3467</td>\n",
       "      <td>15</td>\n",
       "      <td>15</td>\n",
       "      <td>94</td>\n",
       "      <td>33</td>\n",
       "      <td>5</td>\n",
       "      <td>20</td>\n",
       "      <td>5</td>\n",
       "      <td>30</td>\n",
       "      <td>83</td>\n",
       "      <td>Tie</td>\n",
       "    </tr>\n",
       "  </tbody>\n",
       "</table>\n",
       "</div>"
      ],
      "text/plain": [
       "      Map  Year  Wait_time   Match_time  Team A  Team B  Ping  Kills  Assists  \\\n",
       "0  Mirage  2018        327         2906      16      13   215     17        2   \n",
       "1  Mirage  2018        336         2592      16      11   199     13        4   \n",
       "2  Mirage  2018        414         2731      16      14    85     15        3   \n",
       "3  Mirage  2018        317         2379      11      16    93     12        2   \n",
       "4  Mirage  2018        340         3467      15      15    94     33        5   \n",
       "\n",
       "   Deaths  Mvp's  HS%  Points Result  \n",
       "0      21      2    5      45    Win  \n",
       "1      24      2    0      40   Lost  \n",
       "2      18      3   26      37    Win  \n",
       "3      15      2   16      30   Lost  \n",
       "4      20      5   30      83    Tie  "
      ]
     },
     "execution_count": 36,
     "metadata": {},
     "output_type": "execute_result"
    }
   ],
   "source": [
    "data2.head()"
   ]
  },
  {
   "cell_type": "code",
   "execution_count": 50,
   "metadata": {},
   "outputs": [
    {
     "data": {
      "text/html": [
       "<div>\n",
       "<style scoped>\n",
       "    .dataframe tbody tr th:only-of-type {\n",
       "        vertical-align: middle;\n",
       "    }\n",
       "\n",
       "    .dataframe tbody tr th {\n",
       "        vertical-align: top;\n",
       "    }\n",
       "\n",
       "    .dataframe thead th {\n",
       "        text-align: right;\n",
       "    }\n",
       "</style>\n",
       "<table border=\"1\" class=\"dataframe\">\n",
       "  <thead>\n",
       "    <tr style=\"text-align: right;\">\n",
       "      <th></th>\n",
       "      <th>Team A</th>\n",
       "      <th>Team B</th>\n",
       "      <th>Kills</th>\n",
       "      <th>Deaths</th>\n",
       "      <th>Points</th>\n",
       "    </tr>\n",
       "  </thead>\n",
       "  <tbody>\n",
       "    <tr>\n",
       "      <th>0</th>\n",
       "      <td>16</td>\n",
       "      <td>13</td>\n",
       "      <td>17</td>\n",
       "      <td>21</td>\n",
       "      <td>45</td>\n",
       "    </tr>\n",
       "    <tr>\n",
       "      <th>1</th>\n",
       "      <td>16</td>\n",
       "      <td>11</td>\n",
       "      <td>13</td>\n",
       "      <td>24</td>\n",
       "      <td>40</td>\n",
       "    </tr>\n",
       "    <tr>\n",
       "      <th>2</th>\n",
       "      <td>16</td>\n",
       "      <td>14</td>\n",
       "      <td>15</td>\n",
       "      <td>18</td>\n",
       "      <td>37</td>\n",
       "    </tr>\n",
       "    <tr>\n",
       "      <th>3</th>\n",
       "      <td>11</td>\n",
       "      <td>16</td>\n",
       "      <td>12</td>\n",
       "      <td>15</td>\n",
       "      <td>30</td>\n",
       "    </tr>\n",
       "    <tr>\n",
       "      <th>4</th>\n",
       "      <td>15</td>\n",
       "      <td>15</td>\n",
       "      <td>33</td>\n",
       "      <td>20</td>\n",
       "      <td>83</td>\n",
       "    </tr>\n",
       "  </tbody>\n",
       "</table>\n",
       "</div>"
      ],
      "text/plain": [
       "   Team A  Team B  Kills  Deaths  Points\n",
       "0      16      13     17      21      45\n",
       "1      16      11     13      24      40\n",
       "2      16      14     15      18      37\n",
       "3      11      16     12      15      30\n",
       "4      15      15     33      20      83"
      ]
     },
     "execution_count": 50,
     "metadata": {},
     "output_type": "execute_result"
    }
   ],
   "source": [
    "features = data2[['Team A','Team B','Kills','Deaths','Points']]\n",
    "target_value = data2[['Result']]\n",
    "features.head()"
   ]
  },
  {
   "cell_type": "markdown",
   "metadata": {},
   "source": [
    "## Splitting data into Train and Test data \n",
    "## Building Model"
   ]
  },
  {
   "cell_type": "code",
   "execution_count": 51,
   "metadata": {},
   "outputs": [
    {
     "name": "stdout",
     "output_type": "stream",
     "text": [
      "Accuracy of model: 0.7400881057268722\n",
      "Confusion Matrix\n",
      " [[86  0 19]\n",
      " [ 5  7  2]\n",
      " [33  0 75]]\n",
      "Classification Report\n",
      "               precision    recall  f1-score   support\n",
      "\n",
      "        Lost       0.69      0.82      0.75       105\n",
      "         Tie       1.00      0.50      0.67        14\n",
      "         Win       0.78      0.69      0.74       108\n",
      "\n",
      "    accuracy                           0.74       227\n",
      "   macro avg       0.82      0.67      0.72       227\n",
      "weighted avg       0.75      0.74      0.74       227\n",
      "\n"
     ]
    },
    {
     "name": "stderr",
     "output_type": "stream",
     "text": [
      "F:\\AnacondaPython\\lib\\site-packages\\sklearn\\utils\\validation.py:72: DataConversionWarning: A column-vector y was passed when a 1d array was expected. Please change the shape of y to (n_samples, ), for example using ravel().\n",
      "  return f(**kwargs)\n"
     ]
    }
   ],
   "source": [
    "X_train,X_test,y_train,y_test = train_test_split(features,target_value,test_size=0.2,random_state = 0)\n",
    "model = SVC(gamma = 'auto')\n",
    "model.fit(X_train,y_train)\n",
    "predictions = model.predict(X_test)\n",
    "\n",
    "print('Accuracy of model:',accuracy_score(y_test, predictions))\n",
    "print('Confusion Matrix\\n',confusion_matrix(y_test, predictions))\n",
    "print('Classification Report\\n',classification_report(y_test, predictions))"
   ]
  },
  {
   "cell_type": "markdown",
   "metadata": {},
   "source": [
    "## Prediction and Plotting  "
   ]
  },
  {
   "cell_type": "code",
   "execution_count": 39,
   "metadata": {},
   "outputs": [
    {
     "data": {
      "text/plain": [
       "<AxesSubplot:ylabel='Count'>"
      ]
     },
     "execution_count": 39,
     "metadata": {},
     "output_type": "execute_result"
    },
    {
     "data": {
      "image/png": "[encoded data removed]",
      "text/plain": [
       "<Figure size 432x288 with 1 Axes>"
      ]
     },
     "metadata": {
      "needs_background": "light"
     },
     "output_type": "display_data"
    }
   ],
   "source": [
    "sns.histplot(predictions)"
   ]
  },
  {
   "cell_type": "code",
   "execution_count": 54,
   "metadata": {},
   "outputs": [
    {
     "data": {
      "text/plain": [
       "array(['Lost'], dtype=object)"
      ]
     },
     "execution_count": 54,
     "metadata": {},
     "output_type": "execute_result"
    }
   ],
   "source": [
    "test = [[14,16,22,20,57]]\n",
    "predict = model.predict(test)\n",
    "predict"
   ]
  }
 ],
 "metadata": {
  "kernelspec": {
   "display_name": "Python 3",
   "language": "python",
   "name": "python3"
  },
  "language_info": {
   "codemirror_mode": {
    "name": "ipython",
    "version": 3
   },
   "file_extension": ".py",
   "mimetype": "text/x-python",
   "name": "python",
   "nbconvert_exporter": "python",
   "pygments_lexer": "ipython3",
   "version": "3.8.5"
  }
 },
 "nbformat": 4,
 "nbformat_minor": 4
}
